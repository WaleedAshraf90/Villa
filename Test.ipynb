{
 "cells": [
  {
   "cell_type": "code",
   "execution_count": 3,
   "id": "7a802d67",
   "metadata": {},
   "outputs": [],
   "source": [
    "import pandas as pd\n",
    "from selenium import webdriver\n",
    "from selenium.webdriver.chrome.options import Options\n",
    "from selenium.webdriver.common.keys import Keys\n",
    "from selenium.webdriver.common.by import By\n",
    "import time as t\n",
    "import csv\n",
    "import random\n",
    "import threading as th"
   ]
  },
  {
   "cell_type": "code",
   "execution_count": 4,
   "id": "73646a69",
   "metadata": {},
   "outputs": [],
   "source": [
    "driver= webdriver.Chrome()"
   ]
  },
  {
   "cell_type": "code",
   "execution_count": 9,
   "id": "d8323e3c",
   "metadata": {},
   "outputs": [
    {
     "name": "stderr",
     "output_type": "stream",
     "text": [
      "<ipython-input-9-dfff4a72c4cc>:2: DeprecationWarning: find_elements_by_css_selector is deprecated. Please use find_elements(by=By.CSS_SELECTOR, value=css_selector) instead\n",
      "  containers= driver.find_elements_by_css_selector(\"div[class= 'clearfix']\")          # job_titles منهم واللي هما بالنسبالي دول ال text وده لان التاج ده فيه منه أكتر من واحد بنفس الكلاس ده انا عندي 15 واحد وبعد كده بلوب عليهم وبطلع ال find_element مش find_elements بكلاس معين فعشان كده بنعمل h2 والوظيفه الواحده التاج بتاعها اسمه job_title أنا عندي في الصفحه الواحده 15 وظيفه يعني 15\n"
     ]
    },
    {
     "data": {
      "text/plain": [
       "[]"
      ]
     },
     "execution_count": 9,
     "metadata": {},
     "output_type": "execute_result"
    }
   ],
   "source": [
    "    "
   ]
  },
  {
   "cell_type": "code",
   "execution_count": null,
   "id": "e39a92bf",
   "metadata": {},
   "outputs": [],
   "source": []
  }
 ],
 "metadata": {
  "kernelspec": {
   "display_name": "Python 3",
   "language": "python",
   "name": "python3"
  },
  "language_info": {
   "codemirror_mode": {
    "name": "ipython",
    "version": 3
   },
   "file_extension": ".py",
   "mimetype": "text/x-python",
   "name": "python",
   "nbconvert_exporter": "python",
   "pygments_lexer": "ipython3",
   "version": "3.8.8"
  }
 },
 "nbformat": 4,
 "nbformat_minor": 5
}
